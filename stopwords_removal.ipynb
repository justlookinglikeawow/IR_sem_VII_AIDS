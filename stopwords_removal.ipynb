{
 "cells": [
  {
   "cell_type": "code",
   "execution_count": 1,
   "id": "b898f390",
   "metadata": {},
   "outputs": [],
   "source": [
    "import nltk # nltk - natural language toolkit\n",
    "#nltk.download(\"punkt\") \n",
    "#nltk.download(\"stopwords\")\n",
    "from nltk.corpus import stopwords #nltk.corpus provides us with an extensive list of stopwords to work with\n",
    "from nltk.tokenize import word_tokenize \n"
   ]
  },
  {
   "cell_type": "code",
   "execution_count": 2,
   "id": "bce139c5",
   "metadata": {},
   "outputs": [],
   "source": [
    "\n",
    "example_sent = \"\"\"This is a sample sentence,\n",
    "                  showing off the stop words filtration.\"\"\""
   ]
  },
  {
   "cell_type": "code",
   "execution_count": 3,
   "id": "2d41de13",
   "metadata": {},
   "outputs": [],
   "source": [
    "# creating a set of non repeating array of stopwords which can be refered to while removing them\n",
    "stop_words = set(stopwords.words('english'))"
   ]
  },
  {
   "cell_type": "code",
   "execution_count": 4,
   "id": "a2567b17",
   "metadata": {},
   "outputs": [],
   "source": [
    "# tokenizing each word in the given example set\n",
    "word_tokens = word_tokenize(example_sent)"
   ]
  },
  {
   "cell_type": "code",
   "execution_count": 5,
   "id": "82a02618",
   "metadata": {},
   "outputs": [],
   "source": [
    "# using list comprehension for creating a list of stopword filtered array\n",
    "filtered_sentence = [w for w in word_tokens if not w.lower() in stop_words]"
   ]
  },
  {
   "cell_type": "code",
   "execution_count": 6,
   "id": "cce3dd47",
   "metadata": {},
   "outputs": [
    {
     "name": "stdout",
     "output_type": "stream",
     "text": [
      "Array tokenized words are as follows : ['This', 'is', 'a', 'sample', 'sentence', ',', 'showing', 'off', 'the', 'stop', 'words', 'filtration', '.']\n",
      "Array of stopword filtered sentence is as follows : ['sample', 'sentence', ',', 'showing', 'stop', 'words', 'filtration', '.']\n"
     ]
    }
   ],
   "source": [
    "print(f\"Array tokenized words are as follows : {word_tokens}\")\n",
    "print(f\"Array of stopword filtered sentence is as follows : {filtered_sentence}\")"
   ]
  },
  {
   "cell_type": "code",
   "execution_count": null,
   "id": "9cd580be",
   "metadata": {},
   "outputs": [],
   "source": []
  },
  {
   "cell_type": "code",
   "execution_count": null,
   "id": "c4e0f7a9",
   "metadata": {},
   "outputs": [],
   "source": []
  },
  {
   "cell_type": "code",
   "execution_count": null,
   "id": "4ce8fc13",
   "metadata": {},
   "outputs": [],
   "source": []
  },
  {
   "cell_type": "code",
   "execution_count": null,
   "id": "742410a3",
   "metadata": {},
   "outputs": [],
   "source": []
  },
  {
   "cell_type": "code",
   "execution_count": 15,
   "id": "30bc0463",
   "metadata": {},
   "outputs": [],
   "source": [
    "import nltk\n",
    "from nltk.corpus import stopwords\n",
    "from nltk.tokenize import word_tokenize"
   ]
  },
  {
   "cell_type": "code",
   "execution_count": 16,
   "id": "4a0d5e09",
   "metadata": {},
   "outputs": [],
   "source": [
    "sentence = \"This is a sample sentence; make sure to edit this sentence before copy pasting in exam.\""
   ]
  },
  {
   "cell_type": "code",
   "execution_count": 17,
   "id": "4f108592",
   "metadata": {},
   "outputs": [],
   "source": [
    "stop_words = set(stopwords.words(\"english\"))"
   ]
  },
  {
   "cell_type": "code",
   "execution_count": 19,
   "id": "c0ae162b",
   "metadata": {},
   "outputs": [],
   "source": [
    "word_tokens = word_tokenize(sentence)"
   ]
  },
  {
   "cell_type": "code",
   "execution_count": 20,
   "id": "a2f21d59",
   "metadata": {},
   "outputs": [],
   "source": [
    "filtered_sentence = [w for w in word_tokens if not w.lower() in stop_words]"
   ]
  },
  {
   "cell_type": "code",
   "execution_count": 23,
   "id": "1ff1e225",
   "metadata": {},
   "outputs": [
    {
     "name": "stdout",
     "output_type": "stream",
     "text": [
      "Tokenized ['This', 'is', 'a', 'sample', 'sentence', ';', 'make', 'sure', 'to', 'edit', 'this', 'sentence', 'before', 'copy', 'pasting', 'in', 'exam', '.']\n",
      "\n",
      "\n",
      "Stopwords filtered sentence ['sample', 'sentence', ';', 'make', 'sure', 'edit', 'sentence', 'copy', 'pasting', 'exam', '.']\n"
     ]
    }
   ],
   "source": [
    "print(\"Tokenized\", word_tokens, end = \"\\n\\n\\n\")\n",
    "print(\"Stopwords filtered sentence\", filtered_sentence)"
   ]
  },
  {
   "cell_type": "code",
   "execution_count": null,
   "id": "71fdf602",
   "metadata": {},
   "outputs": [],
   "source": []
  }
 ],
 "metadata": {
  "kernelspec": {
   "display_name": "Python 3",
   "language": "python",
   "name": "python3"
  },
  "language_info": {
   "codemirror_mode": {
    "name": "ipython",
    "version": 3
   },
   "file_extension": ".py",
   "mimetype": "text/x-python",
   "name": "python",
   "nbconvert_exporter": "python",
   "pygments_lexer": "ipython3",
   "version": "3.8.8"
  }
 },
 "nbformat": 4,
 "nbformat_minor": 5
}
