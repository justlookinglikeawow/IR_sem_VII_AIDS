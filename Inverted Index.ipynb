{
 "cells": [
  {
   "cell_type": "code",
   "execution_count": 56,
   "id": "b0a0fd9b",
   "metadata": {},
   "outputs": [],
   "source": [
    "# Define the documents\n",
    "document1 = \"The quick brown fox jumped over the lazy dog.\"\n",
    "document2 = \"The lazy dog slept in the sun.\""
   ]
  },
  {
   "cell_type": "code",
   "execution_count": 57,
   "id": "73108d16",
   "metadata": {},
   "outputs": [],
   "source": [
    "# Step 1: Tokenize the documents\n",
    "# Convert each document to lowercase and split it into words\n",
    "tokens1 = document1.lower().split()\n",
    "tokens2 = document2.lower().split()"
   ]
  },
  {
   "cell_type": "code",
   "execution_count": 58,
   "id": "917dac71",
   "metadata": {},
   "outputs": [],
   "source": [
    "# Combine the tokens into a list of unique terms\n",
    "terms = list(set(tokens1 + tokens2))"
   ]
  },
  {
   "cell_type": "code",
   "execution_count": 59,
   "id": "a8328e45",
   "metadata": {},
   "outputs": [],
   "source": [
    "# Step 2: Build the inverted index\n",
    "# Create an empty dictionary to store the inverted index\n",
    "inverted_index = {}"
   ]
  },
  {
   "cell_type": "code",
   "execution_count": 60,
   "id": "daad6a0c",
   "metadata": {},
   "outputs": [],
   "source": [
    "# For each term, find the documents that contain it\n",
    "for term in terms:\n",
    "    documents = []\n",
    "    if term in tokens1:\n",
    "        documents.append(\"Document 1\")\n",
    "    if term in tokens2:\n",
    "        documents.append(\"Document 2\")\n",
    "    inverted_index[term] = documents"
   ]
  },
  {
   "cell_type": "code",
   "execution_count": 61,
   "id": "da6164e8",
   "metadata": {},
   "outputs": [
    {
     "name": "stdout",
     "output_type": "stream",
     "text": [
      "brown -> Document 1\n",
      "jumped -> Document 1\n",
      "fox -> Document 1\n",
      "dog. -> Document 1\n",
      "slept -> Document 2\n",
      "the -> Document 1, Document 2\n",
      "quick -> Document 1\n",
      "lazy -> Document 1, Document 2\n",
      "in -> Document 2\n",
      "over -> Document 1\n",
      "dog -> Document 2\n",
      "sun. -> Document 2\n"
     ]
    }
   ],
   "source": [
    "# Step 3: Print the inverted index\n",
    "for term, documents in inverted_index.items():\n",
    "    print(term, \"->\", \", \".join(documents))"
   ]
  },
  {
   "cell_type": "code",
   "execution_count": null,
   "id": "d0ebef63",
   "metadata": {},
   "outputs": [],
   "source": []
  },
  {
   "cell_type": "code",
   "execution_count": null,
   "id": "41aeb5ef",
   "metadata": {},
   "outputs": [],
   "source": []
  },
  {
   "cell_type": "code",
   "execution_count": null,
   "id": "eb496213",
   "metadata": {},
   "outputs": [],
   "source": []
  },
  {
   "cell_type": "code",
   "execution_count": null,
   "id": "0091f533",
   "metadata": {},
   "outputs": [],
   "source": []
  },
  {
   "cell_type": "code",
   "execution_count": 49,
   "id": "3b0383e7",
   "metadata": {},
   "outputs": [],
   "source": [
    "document1 = \"The quick brown fox jumped over the lay dog\"\n",
    "document2 = \"The lazy dog slept in the sun\""
   ]
  },
  {
   "cell_type": "code",
   "execution_count": 50,
   "id": "f4ca5b73",
   "metadata": {},
   "outputs": [],
   "source": [
    "tokens1 = document1.lower().split()\n",
    "tokens2 = document2.lower().split()"
   ]
  },
  {
   "cell_type": "code",
   "execution_count": 51,
   "id": "4cfc4f86",
   "metadata": {},
   "outputs": [],
   "source": [
    "terms = list(set(tokens1 + tokens2))"
   ]
  },
  {
   "cell_type": "code",
   "execution_count": 52,
   "id": "cba8c3ae",
   "metadata": {},
   "outputs": [],
   "source": [
    "inverted_index = {}\n",
    "\n",
    "for term in terms:\n",
    "    documents = []\n",
    "    if i in tokens1:\n",
    "        documents.append(\"Document 1\")\n",
    "    if i in tokens2:\n",
    "        documents.append(\"Document 2\")\n",
    "        \n",
    "    inverted_index[term] = documents"
   ]
  },
  {
   "cell_type": "code",
   "execution_count": 62,
   "id": "0cd6b0a7",
   "metadata": {},
   "outputs": [
    {
     "name": "stdout",
     "output_type": "stream",
     "text": [
      "brown -> Document 1\n",
      "jumped -> Document 1\n",
      "fox -> Document 1\n",
      "dog. -> Document 1\n",
      "slept -> Document 2\n",
      "the -> Document 1, Document 2\n",
      "quick -> Document 1\n",
      "lazy -> Document 1, Document 2\n",
      "in -> Document 2\n",
      "over -> Document 1\n",
      "dog -> Document 2\n",
      "sun. -> Document 2\n"
     ]
    }
   ],
   "source": [
    "for term , doc in inverted_index.items():\n",
    "    print(term, \"->\", \", \".join(doc))"
   ]
  },
  {
   "cell_type": "code",
   "execution_count": null,
   "id": "04b27ad5",
   "metadata": {},
   "outputs": [],
   "source": []
  },
  {
   "cell_type": "code",
   "execution_count": null,
   "id": "4d346986",
   "metadata": {},
   "outputs": [],
   "source": []
  },
  {
   "cell_type": "code",
   "execution_count": null,
   "id": "55542b54",
   "metadata": {},
   "outputs": [],
   "source": []
  }
 ],
 "metadata": {
  "kernelspec": {
   "display_name": "Python 3",
   "language": "python",
   "name": "python3"
  },
  "language_info": {
   "codemirror_mode": {
    "name": "ipython",
    "version": 3
   },
   "file_extension": ".py",
   "mimetype": "text/x-python",
   "name": "python",
   "nbconvert_exporter": "python",
   "pygments_lexer": "ipython3",
   "version": "3.8.8"
  }
 },
 "nbformat": 4,
 "nbformat_minor": 5
}
